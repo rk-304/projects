{
 "cells": [
  {
   "cell_type": "code",
   "execution_count": 400,
   "metadata": {},
   "outputs": [],
   "source": [
    "import requests\n",
    "from bs4 import BeautifulSoup\n",
    "\n",
    "import pandas as pd\n",
    "\n",
    "headers = {'User-Agent': \n",
    "           'Mozilla/5.0 (X11; Linux x86_64) AppleWebKit/537.36 (KHTML, like Gecko) Chrome/47.0.2526.106 Safari/537.36'}\n",
    "\n",
    "page = \"https://www.transfermarkt.de/kalidou-koulibaly/marktwertverlauf/spieler/93128\"\n",
    "pageTree = requests.get(page, headers=headers)\n",
    "pageSoup = BeautifulSoup(pageTree.content, 'html.parser')    \n"
   ]
  },
  {
   "cell_type": "code",
   "execution_count": 401,
   "metadata": {},
   "outputs": [],
   "source": [
    "Players = pageSoup.find_all(\"script\", {\"type\": \"text/javascript\"})\n",
    "\n"
   ]
  },
  {
   "cell_type": "code",
   "execution_count": 402,
   "metadata": {
    "scrolled": true
   },
   "outputs": [
    {
     "name": "stdout",
     "output_type": "stream",
     "text": [
      "                    Value       Datum\n",
      "0                    0.05  01.08.2010\n",
      "1   150\\x20Tsd.\\x20\\u20AC  24.10.2010\n",
      "2   400\\x20Tsd.\\x20\\u20AC  30.05.2011\n",
      "3   750\\x20Tsd.\\x20\\u20AC  22.07.2011\n",
      "4   750\\x20Tsd.\\x20\\u20AC  25.12.2011\n",
      "5   700\\x20Tsd.\\x20\\u20AC  01.06.2012\n",
      "6                       1  18.09.2012\n",
      "7                       2  16.10.2012\n",
      "8                       3  09.01.2013\n",
      "9                       3  25.06.2013\n",
      "10                      3  10.02.2014\n",
      "11                      6  28.06.2014\n",
      "12                      9  07.01.2015\n",
      "13                      9  01.07.2015\n",
      "14                     12  05.11.2015\n",
      "15                     16  04.01.2016\n",
      "16                     20  01.04.2016\n",
      "17                     23  15.07.2016\n",
      "18                     28  14.10.2016\n",
      "19                     30  02.01.2017\n",
      "20                     30  08.06.2017\n",
      "21                     40  29.12.2017\n",
      "22                     50  24.03.2018\n",
      "23                     60  07.06.2018\n",
      "24                     70  20.12.2018\n",
      "25                     75  06.06.2019\n",
      "26                     75  12.12.2019\n",
      "27                     70  03.03.2020\n",
      "28                     56  08.04.2020\n",
      "29                     65  25.08.2020\n"
     ]
    }
   ],
   "source": [
    "# create empty array to store data\n",
    "data = []\n",
    "# loop over results\n",
    "for result in Players:\n",
    "    product_name = result.text\n",
    "       data.append(product_name)\n",
    "\n",
    "# formatting array         \n",
    "data1 = data[-1]\n",
    "data2=data1.split(\",\")\n",
    "\n",
    "matches = []\n",
    "\n",
    "# iterating elements containing mw (abbr. for market value) to the new empty list\n",
    "for match in data2:\n",
    "    if \"mw\" in match:\n",
    "        match.split(\":\")\n",
    "        matches.append(match)\n",
    "#formatting list into a string and splitting string         \n",
    "strings=''.join(map(str, matches))\n",
    "list= strings.split(\"'\")\n",
    "\n",
    "del list[-1]\n",
    "while(\"\" in list) : \n",
    "        list.remove(\"\")\n",
    "#list.remove(\"verein\")\n",
    "#list.remove(\"West\\\\x20Bromwich\\\\x20Albion\") \n",
    "#list.remove(\":\") \n",
    "\n",
    "#iterating the values and dates into two new lists \n",
    "ValueList = list[2::6]\n",
    "DatumList = list[5::6]\n",
    "\n",
    "# dataframe for Player Market Value and Date \n",
    "df = pd.DataFrame({\"Value\":ValueList,\"Datum\":DatumList}, columns=['Value', 'Datum'])\n",
    "\n",
    "df['Value'].replace({'50\\\\x20Tsd.\\\\x20\\\\u20AC':'0.05', '250\\\\x20Tsd.\\\\x20\\\\u20AC':'0.25'}, inplace=True)\n",
    "\n",
    "# save results to Excel \n",
    "import openpyxl\n",
    "writer = pd.ExcelWriter('Marktwert.xlsx', engine='openpyxl', mode='a') \n",
    "df.to_excel(writer,sheet_name='Koulibaly')\n",
    "\n",
    "writer.save() \n",
    "#display dataframe\n",
    "print(df)"
   ]
  },
  {
   "cell_type": "code",
   "execution_count": null,
   "metadata": {},
   "outputs": [],
   "source": []
  }
 ],
 "metadata": {
  "kernelspec": {
   "display_name": "Python 3",
   "language": "python",
   "name": "python3"
  },
  "language_info": {
   "codemirror_mode": {
    "name": "ipython",
    "version": 3
   },
   "file_extension": ".py",
   "mimetype": "text/x-python",
   "name": "python",
   "nbconvert_exporter": "python",
   "pygments_lexer": "ipython3",
   "version": "3.7.4"
  }
 },
 "nbformat": 4,
 "nbformat_minor": 2
}
