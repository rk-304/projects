{
 "cells": [
  {
   "cell_type": "code",
   "execution_count": 2,
   "metadata": {
    "scrolled": true
   },
   "outputs": [],
   "source": [
    "#pip install tweepy \n",
    "import tweepy\n",
    "import json \n",
    "import datetime\n",
    "import pandas as pd\n",
    "\n",
    "consumer_key = '########'  # Add your API key here\n",
    "consumer_secret = '#######'  # Add your API secret key here\n",
    "access_token = '#######'\n",
    "access_token_secret = '#######'\n",
    "\n",
    "auth = tweepy.OAuthHandler(consumer_key, consumer_secret)\n",
    "auth.set_access_token(access_token, access_token_secret)\n",
    "\n",
    "api = tweepy.API(auth)"
   ]
  },
  {
   "cell_type": "raw",
   "metadata": {},
   "source": []
  },
  {
   "cell_type": "code",
   "execution_count": 3,
   "metadata": {
    "scrolled": true
   },
   "outputs": [],
   "source": [
    "#!pip install textblob\n"
   ]
  },
  {
   "cell_type": "code",
   "execution_count": 4,
   "metadata": {
    "scrolled": true
   },
   "outputs": [],
   "source": [
    "#!pip install wordcloud"
   ]
  },
  {
   "cell_type": "code",
   "execution_count": 5,
   "metadata": {
    "scrolled": true
   },
   "outputs": [],
   "source": [
    "#!pip install langdetect"
   ]
  },
  {
   "cell_type": "code",
   "execution_count": 6,
   "metadata": {
    "scrolled": true
   },
   "outputs": [],
   "source": [
    "#nltk.download('vader_lexicon')"
   ]
  },
  {
   "cell_type": "code",
   "execution_count": 7,
   "metadata": {
    "scrolled": true
   },
   "outputs": [],
   "source": [
    "from textblob import TextBlob\n",
    "import sys\n",
    "import tweepy\n",
    "import matplotlib.pyplot as plt\n",
    "import pandas as pd\n",
    "import numpy as np\n",
    "import os\n",
    "import nltk\n",
    "import pycountry\n",
    "import re\n",
    "import string\n",
    "from wordcloud import WordCloud, STOPWORDS\n",
    "from PIL import Image\n",
    "from nltk.sentiment.vader import SentimentIntensityAnalyzer\n",
    "from langdetect import detect\n",
    "from nltk.stem import SnowballStemmer\n",
    "from nltk.sentiment.vader import SentimentIntensityAnalyzer\n",
    "from sklearn.feature_extraction.text import CountVectorizer\n",
    "import seaborn as sns"
   ]
  },
  {
   "cell_type": "code",
   "execution_count": 331,
   "metadata": {
    "scrolled": true
   },
   "outputs": [],
   "source": [
    "def percentage(part,whole):\n",
    "    return 100 * float(part)/float(whole)\n",
    "\n",
    "#query = 'ClimateChange OR FridaysForFuture'\n",
    "query = 'ClimateChange OR FridaysForFuture OR ClimateEmergency OR ClimateStrike OR TheParisAgreement OR GlobalWarming'\n",
    "#keyword = input(“Please enter keyword or hashtag to search: “)\n",
    "noOfTweet = 500\n",
    "tweets = tweepy.Cursor(api.search, q=query).items(noOfTweet)\n",
    "positive = 0\n",
    "negative = 0\n",
    "neutral = 0\n",
    "polarity = 0\n",
    "tweet_list = []\n",
    "neutral_list = []\n",
    "negative_list = []\n",
    "positive_list = []\n",
    "\n",
    "for tweet in tweets:\n",
    " \n",
    "    #print(tweet.text)\n",
    "    tweet_list.append(tweet.text)\n",
    "    analysis = TextBlob(tweet.text)\n",
    "    score = SentimentIntensityAnalyzer().polarity_scores(tweet.text)\n",
    "    neg = score['neg']\n",
    "    neu = score['neu']\n",
    "    pos = score['pos']\n",
    "    comp = score['compound']\n",
    "    polarity += analysis.sentiment.polarity\n",
    " \n",
    "    if neg > pos:\n",
    "        negative_list.append(tweet.text)\n",
    "        negative += 1\n",
    "    elif pos > neg:\n",
    "        positive_list.append(tweet.text)\n",
    "        positive += 1\n",
    "\n",
    "    elif pos == neg:\n",
    "        neutral_list.append(tweet.text)\n",
    "        neutral += 1\n",
    "        \n",
    "positive = percentage(positive, noOfTweet)\n",
    "negative = percentage(negative, noOfTweet)\n",
    "neutral = percentage(neutral, noOfTweet)\n",
    "polarity = percentage(polarity, noOfTweet)\n",
    "positive = format(positive, '.1f')\n",
    "negative = format(negative, '.1f')\n",
    "neutral = format(neutral, '.1f')"
   ]
  },
  {
   "cell_type": "code",
   "execution_count": 318,
   "metadata": {
    "scrolled": true
   },
   "outputs": [
    {
     "name": "stdout",
     "output_type": "stream",
     "text": [
      "total number:  500\n",
      "positive number:  166\n",
      "negative number:  150\n",
      "neutral number:  184\n"
     ]
    }
   ],
   "source": [
    "#Number of Tweets (Total, Positive, Negative, Neutral)\n",
    "tweet_list = pd.DataFrame(tweet_list)\n",
    "neutral_list = pd.DataFrame(neutral_list)\n",
    "negative_list = pd.DataFrame(negative_list)\n",
    "positive_list = pd.DataFrame(positive_list)\n",
    "print(\"total number: \",len(tweet_list))\n",
    "print(\"positive number: \",len(positive_list))\n",
    "print(\"negative number: \", len(negative_list))\n",
    "print(\"neutral number: \",len(neutral_list))"
   ]
  },
  {
   "cell_type": "code",
   "execution_count": null,
   "metadata": {
    "scrolled": false
   },
   "outputs": [],
   "source": [
    "#Creating PieCart\n",
    "labels = ['Positive ['+str(positive)+'%]' , 'Neutral ['+str(neutral)+'%]','Negative ['+str(negative)+'%]']\n",
    "sizes = [positive, neutral, negative]\n",
    "colors = ['yellowgreen', 'blue','red']\n",
    "patches, texts = plt.pie(sizes,colors=colors, startangle=90)\n",
    "plt.style.use('default')\n",
    "plt.legend(labels)\n",
    "plt.title(\"Sentiment Analysis Result\" )\n",
    "plt.axis('equal')\n",
    "plt.show()"
   ]
  },
  {
   "cell_type": "code",
   "execution_count": 320,
   "metadata": {
    "scrolled": true
   },
   "outputs": [],
   "source": [
    "tweet_list.drop_duplicates(inplace = True)"
   ]
  },
  {
   "cell_type": "code",
   "execution_count": 321,
   "metadata": {
    "scrolled": true
   },
   "outputs": [
    {
     "data": {
      "text/html": [
       "<div>\n",
       "<style scoped>\n",
       "    .dataframe tbody tr th:only-of-type {\n",
       "        vertical-align: middle;\n",
       "    }\n",
       "\n",
       "    .dataframe tbody tr th {\n",
       "        vertical-align: top;\n",
       "    }\n",
       "\n",
       "    .dataframe thead th {\n",
       "        text-align: right;\n",
       "    }\n",
       "</style>\n",
       "<table border=\"1\" class=\"dataframe\">\n",
       "  <thead>\n",
       "    <tr style=\"text-align: right;\">\n",
       "      <th></th>\n",
       "      <th>0</th>\n",
       "      <th>text</th>\n",
       "    </tr>\n",
       "  </thead>\n",
       "  <tbody>\n",
       "    <tr>\n",
       "      <td>0</td>\n",
       "      <td>RT @DavidFopp: \"The Swedish politicians have t...</td>\n",
       "      <td>the swedish politicians have to stop pretendi...</td>\n",
       "    </tr>\n",
       "    <tr>\n",
       "      <td>1</td>\n",
       "      <td>RT @vjack: Covid-19 paused climate emissions –...</td>\n",
       "      <td>covid 19 paused climate emissions but they re...</td>\n",
       "    </tr>\n",
       "    <tr>\n",
       "      <td>2</td>\n",
       "      <td>RT @WMO: \"A gloomy threshold.\"\\n2021 is expect...</td>\n",
       "      <td>a gloomy threshold 2021 is expected to be the...</td>\n",
       "    </tr>\n",
       "    <tr>\n",
       "      <td>3</td>\n",
       "      <td>RT @IPBES: 🌊🇪🇸 The green, underwater meadows o...</td>\n",
       "      <td>the green underwater meadows of posidonia sea...</td>\n",
       "    </tr>\n",
       "    <tr>\n",
       "      <td>4</td>\n",
       "      <td>RT @AaravSeth_: \"Why are you so afraid of hear...</td>\n",
       "      <td>why are you so afraid of hearing the truth va...</td>\n",
       "    </tr>\n",
       "    <tr>\n",
       "      <td>5</td>\n",
       "      <td>Climate crisis: recent European droughts 'wors...</td>\n",
       "      <td>climate crisis recent european droughts worst ...</td>\n",
       "    </tr>\n",
       "    <tr>\n",
       "      <td>6</td>\n",
       "      <td>RT @PaulEDawson: \"We've upset the energy balan...</td>\n",
       "      <td>we ve upset the energy balance of the entire ...</td>\n",
       "    </tr>\n",
       "    <tr>\n",
       "      <td>7</td>\n",
       "      <td>Boot oder Fahrrad? Entscheide selbst:\\nAuf htt...</td>\n",
       "      <td>boot oder fahrrad entscheide selbst auf https ...</td>\n",
       "    </tr>\n",
       "    <tr>\n",
       "      <td>8</td>\n",
       "      <td>Breaking #ClimateChange News: New invasive spe...</td>\n",
       "      <td>breaking climatechange news new invasive speci...</td>\n",
       "    </tr>\n",
       "    <tr>\n",
       "      <td>9</td>\n",
       "      <td>RT @allan_crawshaw: GLOBAL CLIMATE STRIKE #Fri...</td>\n",
       "      <td>global climate strike fridaysforfuture march ...</td>\n",
       "    </tr>\n",
       "  </tbody>\n",
       "</table>\n",
       "</div>"
      ],
      "text/plain": [
       "                                                   0  \\\n",
       "0  RT @DavidFopp: \"The Swedish politicians have t...   \n",
       "1  RT @vjack: Covid-19 paused climate emissions –...   \n",
       "2  RT @WMO: \"A gloomy threshold.\"\\n2021 is expect...   \n",
       "3  RT @IPBES: 🌊🇪🇸 The green, underwater meadows o...   \n",
       "4  RT @AaravSeth_: \"Why are you so afraid of hear...   \n",
       "5  Climate crisis: recent European droughts 'wors...   \n",
       "6  RT @PaulEDawson: \"We've upset the energy balan...   \n",
       "7  Boot oder Fahrrad? Entscheide selbst:\\nAuf htt...   \n",
       "8  Breaking #ClimateChange News: New invasive spe...   \n",
       "9  RT @allan_crawshaw: GLOBAL CLIMATE STRIKE #Fri...   \n",
       "\n",
       "                                                text  \n",
       "0   the swedish politicians have to stop pretendi...  \n",
       "1   covid 19 paused climate emissions but they re...  \n",
       "2   a gloomy threshold 2021 is expected to be the...  \n",
       "3   the green underwater meadows of posidonia sea...  \n",
       "4   why are you so afraid of hearing the truth va...  \n",
       "5  climate crisis recent european droughts worst ...  \n",
       "6   we ve upset the energy balance of the entire ...  \n",
       "7  boot oder fahrrad entscheide selbst auf https ...  \n",
       "8  breaking climatechange news new invasive speci...  \n",
       "9   global climate strike fridaysforfuture march ...  "
      ]
     },
     "execution_count": 321,
     "metadata": {},
     "output_type": "execute_result"
    }
   ],
   "source": [
    "#Cleaning Text (RT, Punctuation etc)\n",
    "#Creating new dataframe and new features\n",
    "tw_list = pd.DataFrame(tweet_list)\n",
    "tw_list[\"text\"] = tw_list[0]\n",
    "#Removing RT, Punctuation etc\n",
    "remove_rt = lambda x: re.sub('RT @\\w+: ',\" \",x)\n",
    "rt = lambda x: re.sub('[^A-Za-z0-9]+',' ',x)\n",
    "#rt = lambda x: re.sub(\"(@[A-Za-z0–9]+)|([0-9A-Za-z \\t])|(\\w+:\\/\\/\\S+)\",\" \",x)\n",
    "tw_list[\"text\"] = tw_list.text.map(remove_rt).map(rt)\n",
    "tw_list[\"text\"] = tw_list.text.str.lower()\n",
    "tw_list.head(10)"
   ]
  },
  {
   "cell_type": "code",
   "execution_count": 322,
   "metadata": {
    "scrolled": true
   },
   "outputs": [],
   "source": [
    "#!pip install vaderSentiment"
   ]
  },
  {
   "cell_type": "code",
   "execution_count": 329,
   "metadata": {
    "scrolled": true
   },
   "outputs": [
    {
     "data": {
      "text/html": [
       "<div>\n",
       "<style scoped>\n",
       "    .dataframe tbody tr th:only-of-type {\n",
       "        vertical-align: middle;\n",
       "    }\n",
       "\n",
       "    .dataframe tbody tr th {\n",
       "        vertical-align: top;\n",
       "    }\n",
       "\n",
       "    .dataframe thead th {\n",
       "        text-align: right;\n",
       "    }\n",
       "</style>\n",
       "<table border=\"1\" class=\"dataframe\">\n",
       "  <thead>\n",
       "    <tr style=\"text-align: right;\">\n",
       "      <th></th>\n",
       "      <th>0</th>\n",
       "      <th>text</th>\n",
       "      <th>polarity</th>\n",
       "      <th>subjectivity</th>\n",
       "      <th>neg</th>\n",
       "      <th>neu</th>\n",
       "      <th>pos</th>\n",
       "      <th>compound</th>\n",
       "      <th>sentiment</th>\n",
       "    </tr>\n",
       "  </thead>\n",
       "  <tbody>\n",
       "    <tr>\n",
       "      <td>0</td>\n",
       "      <td>RT @DavidFopp: \"The Swedish politicians have t...</td>\n",
       "      <td>the swedish politicians have to stop pretendi...</td>\n",
       "      <td>0.400000</td>\n",
       "      <td>0.600000</td>\n",
       "      <td>0.278</td>\n",
       "      <td>0.661</td>\n",
       "      <td>0.062</td>\n",
       "      <td>-0.7096</td>\n",
       "      <td>NaN</td>\n",
       "    </tr>\n",
       "    <tr>\n",
       "      <td>1</td>\n",
       "      <td>RT @vjack: Covid-19 paused climate emissions –...</td>\n",
       "      <td>covid 19 paused climate emissions but they re...</td>\n",
       "      <td>0.000000</td>\n",
       "      <td>0.000000</td>\n",
       "      <td>0.000</td>\n",
       "      <td>1.000</td>\n",
       "      <td>0.000</td>\n",
       "      <td>0.0000</td>\n",
       "      <td>NaN</td>\n",
       "    </tr>\n",
       "    <tr>\n",
       "      <td>2</td>\n",
       "      <td>RT @WMO: \"A gloomy threshold.\"\\n2021 is expect...</td>\n",
       "      <td>a gloomy threshold 2021 is expected to be the...</td>\n",
       "      <td>0.162500</td>\n",
       "      <td>0.333333</td>\n",
       "      <td>0.068</td>\n",
       "      <td>0.932</td>\n",
       "      <td>0.000</td>\n",
       "      <td>-0.1531</td>\n",
       "      <td>NaN</td>\n",
       "    </tr>\n",
       "    <tr>\n",
       "      <td>3</td>\n",
       "      <td>RT @IPBES: 🌊🇪🇸 The green, underwater meadows o...</td>\n",
       "      <td>the green underwater meadows of posidonia sea...</td>\n",
       "      <td>0.200000</td>\n",
       "      <td>0.600000</td>\n",
       "      <td>0.000</td>\n",
       "      <td>0.853</td>\n",
       "      <td>0.147</td>\n",
       "      <td>0.4754</td>\n",
       "      <td>NaN</td>\n",
       "    </tr>\n",
       "    <tr>\n",
       "      <td>4</td>\n",
       "      <td>RT @AaravSeth_: \"Why are you so afraid of hear...</td>\n",
       "      <td>why are you so afraid of hearing the truth va...</td>\n",
       "      <td>-0.600000</td>\n",
       "      <td>0.900000</td>\n",
       "      <td>0.000</td>\n",
       "      <td>0.867</td>\n",
       "      <td>0.133</td>\n",
       "      <td>0.3182</td>\n",
       "      <td>NaN</td>\n",
       "    </tr>\n",
       "    <tr>\n",
       "      <td>5</td>\n",
       "      <td>Climate crisis: recent European droughts 'wors...</td>\n",
       "      <td>climate crisis recent european droughts worst ...</td>\n",
       "      <td>-0.333333</td>\n",
       "      <td>0.416667</td>\n",
       "      <td>0.353</td>\n",
       "      <td>0.647</td>\n",
       "      <td>0.000</td>\n",
       "      <td>-0.8481</td>\n",
       "      <td>NaN</td>\n",
       "    </tr>\n",
       "    <tr>\n",
       "      <td>6</td>\n",
       "      <td>RT @PaulEDawson: \"We've upset the energy balan...</td>\n",
       "      <td>we ve upset the energy balance of the entire ...</td>\n",
       "      <td>-0.200000</td>\n",
       "      <td>0.512500</td>\n",
       "      <td>0.230</td>\n",
       "      <td>0.685</td>\n",
       "      <td>0.085</td>\n",
       "      <td>-0.5574</td>\n",
       "      <td>NaN</td>\n",
       "    </tr>\n",
       "    <tr>\n",
       "      <td>7</td>\n",
       "      <td>Boot oder Fahrrad? Entscheide selbst:\\nAuf htt...</td>\n",
       "      <td>boot oder fahrrad entscheide selbst auf https ...</td>\n",
       "      <td>0.000000</td>\n",
       "      <td>0.000000</td>\n",
       "      <td>0.000</td>\n",
       "      <td>1.000</td>\n",
       "      <td>0.000</td>\n",
       "      <td>0.0000</td>\n",
       "      <td>NaN</td>\n",
       "    </tr>\n",
       "    <tr>\n",
       "      <td>8</td>\n",
       "      <td>Breaking #ClimateChange News: New invasive spe...</td>\n",
       "      <td>breaking climatechange news new invasive speci...</td>\n",
       "      <td>0.136364</td>\n",
       "      <td>0.454545</td>\n",
       "      <td>0.000</td>\n",
       "      <td>1.000</td>\n",
       "      <td>0.000</td>\n",
       "      <td>0.0000</td>\n",
       "      <td>NaN</td>\n",
       "    </tr>\n",
       "    <tr>\n",
       "      <td>9</td>\n",
       "      <td>RT @allan_crawshaw: GLOBAL CLIMATE STRIKE #Fri...</td>\n",
       "      <td>global climate strike fridaysforfuture march ...</td>\n",
       "      <td>0.033333</td>\n",
       "      <td>0.033333</td>\n",
       "      <td>0.086</td>\n",
       "      <td>0.914</td>\n",
       "      <td>0.000</td>\n",
       "      <td>-0.1280</td>\n",
       "      <td>NaN</td>\n",
       "    </tr>\n",
       "  </tbody>\n",
       "</table>\n",
       "</div>"
      ],
      "text/plain": [
       "                                                   0  \\\n",
       "0  RT @DavidFopp: \"The Swedish politicians have t...   \n",
       "1  RT @vjack: Covid-19 paused climate emissions –...   \n",
       "2  RT @WMO: \"A gloomy threshold.\"\\n2021 is expect...   \n",
       "3  RT @IPBES: 🌊🇪🇸 The green, underwater meadows o...   \n",
       "4  RT @AaravSeth_: \"Why are you so afraid of hear...   \n",
       "5  Climate crisis: recent European droughts 'wors...   \n",
       "6  RT @PaulEDawson: \"We've upset the energy balan...   \n",
       "7  Boot oder Fahrrad? Entscheide selbst:\\nAuf htt...   \n",
       "8  Breaking #ClimateChange News: New invasive spe...   \n",
       "9  RT @allan_crawshaw: GLOBAL CLIMATE STRIKE #Fri...   \n",
       "\n",
       "                                                text  polarity  subjectivity  \\\n",
       "0   the swedish politicians have to stop pretendi...  0.400000      0.600000   \n",
       "1   covid 19 paused climate emissions but they re...  0.000000      0.000000   \n",
       "2   a gloomy threshold 2021 is expected to be the...  0.162500      0.333333   \n",
       "3   the green underwater meadows of posidonia sea...  0.200000      0.600000   \n",
       "4   why are you so afraid of hearing the truth va... -0.600000      0.900000   \n",
       "5  climate crisis recent european droughts worst ... -0.333333      0.416667   \n",
       "6   we ve upset the energy balance of the entire ... -0.200000      0.512500   \n",
       "7  boot oder fahrrad entscheide selbst auf https ...  0.000000      0.000000   \n",
       "8  breaking climatechange news new invasive speci...  0.136364      0.454545   \n",
       "9   global climate strike fridaysforfuture march ...  0.033333      0.033333   \n",
       "\n",
       "     neg    neu    pos  compound sentiment  \n",
       "0  0.278  0.661  0.062   -0.7096       NaN  \n",
       "1  0.000  1.000  0.000    0.0000       NaN  \n",
       "2  0.068  0.932  0.000   -0.1531       NaN  \n",
       "3  0.000  0.853  0.147    0.4754       NaN  \n",
       "4  0.000  0.867  0.133    0.3182       NaN  \n",
       "5  0.353  0.647  0.000   -0.8481       NaN  \n",
       "6  0.230  0.685  0.085   -0.5574       NaN  \n",
       "7  0.000  1.000  0.000    0.0000       NaN  \n",
       "8  0.000  1.000  0.000    0.0000       NaN  \n",
       "9  0.086  0.914  0.000   -0.1280       NaN  "
      ]
     },
     "execution_count": 329,
     "metadata": {},
     "output_type": "execute_result"
    }
   ],
   "source": [
    "from nltk.sentiment.vader import SentimentIntensityAnalyzer\n",
    "#Calculating Negative, Positive, Neutral and Compound values\n",
    "tw_list[['polarity', 'subjectivity']] = tw_list['text'].apply(lambda Text: pd.Series(TextBlob(Text).sentiment))\n",
    "for index, row in tw_list['text'].iteritems():\n",
    "        score = SentimentIntensityAnalyzer().polarity_scores(row)\n",
    "        neg = score['neg']\n",
    "        neu = score['neu']\n",
    "        pos = score['pos']\n",
    "        comp = score['compound']\n",
    "\n",
    "tw_list['neg'] = tw_list['text'].apply(lambda x:SentimentIntensityAnalyzer().polarity_scores(x)['neg'])\n",
    "tw_list['neu'] = tw_list['text'].apply(lambda x:SentimentIntensityAnalyzer().polarity_scores(x)['neu'])\n",
    "tw_list['pos'] = tw_list['text'].apply(lambda x:SentimentIntensityAnalyzer().polarity_scores(x)['pos'])\n",
    "tw_list['compound'] = tw_list['text'].apply(lambda x:SentimentIntensityAnalyzer().polarity_scores(x)['compound'])\n",
    "\n",
    "tw_list.head(10)\n"
   ]
  },
  {
   "cell_type": "code",
   "execution_count": null,
   "metadata": {
    "scrolled": true
   },
   "outputs": [],
   "source": [
    "#Creating new data frames for all sentiments (positive, negative and neutral)\n",
    "tw_list_negative = tw_list[tw_list[\"neg\"]==\"negative\"]\n",
    "tw_list_positive = tw_list[tw_list[\"sentiment\"]==\"positive\"] \n",
    "tw_list_neutral = tw_list[tw_list[\"sentiment\"]== 1]"
   ]
  },
  {
   "cell_type": "code",
   "execution_count": null,
   "metadata": {
    "scrolled": false
   },
   "outputs": [],
   "source": [
    "def count_values_in_column(data,feature):\n",
    "    total=data.loc[:,feature].value_counts(dropna=False)\n",
    "    percentage=round(data.loc[:,feature].value_counts(dropna=False,normalize=True)*100,2)\n",
    "    return pd.concat([total,percentage],axis=1,keys=['Total','Percentage'])\n",
    "#Count_values for sentiment\n",
    "count_values_in_column(tw_list,\"sentiment\")"
   ]
  },
  {
   "cell_type": "code",
   "execution_count": 316,
   "metadata": {
    "scrolled": false
   },
   "outputs": [
    {
     "data": {
      "image/png": "[encoded data removed]",
      "text/plain": [
       "<Figure size 640x480 with 1 Axes>"
      ]
     },
     "metadata": {},
     "output_type": "display_data"
    }
   ],
   "source": [
    "# create data for Pie Chart\n",
    "pichart = count_values_in_column(tw_list,\"sentiment\")\n",
    "names= pichart.index\n",
    "size= pichart[\"Percentage\"]\n",
    " \n",
    "# Create a circle for the center of the plot\n",
    "my_circle=plt.Circle( (0,0), 0.7, color='white')\n",
    "plt.pie(size, labels=names, colors=['green','blue','red'])\n",
    "p=plt.gcf()\n",
    "p.gca().add_artist(my_circle)\n",
    "plt.show()"
   ]
  },
  {
   "cell_type": "code",
   "execution_count": null,
   "metadata": {},
   "outputs": [],
   "source": [
    "########################### \n",
    "# Second Script # "
   ]
  },
  {
   "cell_type": "code",
   "execution_count": 8,
   "metadata": {
    "scrolled": true
   },
   "outputs": [],
   "source": [
    "query = 'ClimateChange OR FridaysForFuture OR ClimateEmergency OR ClimateStrike OR TheParisAgreement OR GlobalWarming'\n",
    "\n",
    "noOfTweet = 300"
   ]
  },
  {
   "cell_type": "code",
   "execution_count": 35,
   "metadata": {
    "scrolled": true
   },
   "outputs": [],
   "source": [
    "tw_list = pd.DataFrame(\n",
    "    [tweet.author.screen_name, tweet.text, tweet.created_at] for tweet in tweepy.Cursor(api.search, q=query, lang='en').items(noOfTweet)\n",
    ")"
   ]
  },
  {
   "cell_type": "code",
   "execution_count": 36,
   "metadata": {
    "scrolled": true
   },
   "outputs": [
    {
     "data": {
      "text/html": [
       "<div>\n",
       "<style scoped>\n",
       "    .dataframe tbody tr th:only-of-type {\n",
       "        vertical-align: middle;\n",
       "    }\n",
       "\n",
       "    .dataframe tbody tr th {\n",
       "        vertical-align: top;\n",
       "    }\n",
       "\n",
       "    .dataframe thead th {\n",
       "        text-align: right;\n",
       "    }\n",
       "</style>\n",
       "<table border=\"1\" class=\"dataframe\">\n",
       "  <thead>\n",
       "    <tr style=\"text-align: right;\">\n",
       "      <th></th>\n",
       "      <th>user_account</th>\n",
       "      <th>text</th>\n",
       "      <th>created_at</th>\n",
       "    </tr>\n",
       "  </thead>\n",
       "  <tbody>\n",
       "    <tr>\n",
       "      <td>0</td>\n",
       "      <td>FFFBot1</td>\n",
       "      <td>RT @DelilahforTexas: This is my family at the ...</td>\n",
       "      <td>2021-04-06 11:08:02</td>\n",
       "    </tr>\n",
       "    <tr>\n",
       "      <td>1</td>\n",
       "      <td>meiklwagner</td>\n",
       "      <td>RT @meiklwagner: Some Things Are Better Left U...</td>\n",
       "      <td>2021-04-06 11:08:02</td>\n",
       "    </tr>\n",
       "    <tr>\n",
       "      <td>2</td>\n",
       "      <td>FFFBot1</td>\n",
       "      <td>RT @sosfromthekids: Week 51 of #ClimateStrikeO...</td>\n",
       "      <td>2021-04-06 11:07:52</td>\n",
       "    </tr>\n",
       "    <tr>\n",
       "      <td>3</td>\n",
       "      <td>MrCastrigano</td>\n",
       "      <td>RT @subjecttoclimat: 👇Teachers, comment below ...</td>\n",
       "      <td>2021-04-06 11:07:49</td>\n",
       "    </tr>\n",
       "    <tr>\n",
       "      <td>4</td>\n",
       "      <td>fmotta100</td>\n",
       "      <td>RT @MikeHudema: Here is a 90 second video summ...</td>\n",
       "      <td>2021-04-06 11:07:32</td>\n",
       "    </tr>\n",
       "  </tbody>\n",
       "</table>\n",
       "</div>"
      ],
      "text/plain": [
       "   user_account                                               text  \\\n",
       "0       FFFBot1  RT @DelilahforTexas: This is my family at the ...   \n",
       "1   meiklwagner  RT @meiklwagner: Some Things Are Better Left U...   \n",
       "2       FFFBot1  RT @sosfromthekids: Week 51 of #ClimateStrikeO...   \n",
       "3  MrCastrigano  RT @subjecttoclimat: 👇Teachers, comment below ...   \n",
       "4     fmotta100  RT @MikeHudema: Here is a 90 second video summ...   \n",
       "\n",
       "           created_at  \n",
       "0 2021-04-06 11:08:02  \n",
       "1 2021-04-06 11:08:02  \n",
       "2 2021-04-06 11:07:52  \n",
       "3 2021-04-06 11:07:49  \n",
       "4 2021-04-06 11:07:32  "
      ]
     },
     "execution_count": 36,
     "metadata": {},
     "output_type": "execute_result"
    }
   ],
   "source": [
    "tw_list.columns = [\"user_account\",\"text\", \"created_at\"]\n",
    "tw_list.head()"
   ]
  },
  {
   "cell_type": "code",
   "execution_count": 37,
   "metadata": {
    "scrolled": true
   },
   "outputs": [
    {
     "data": {
      "text/html": [
       "<div>\n",
       "<style scoped>\n",
       "    .dataframe tbody tr th:only-of-type {\n",
       "        vertical-align: middle;\n",
       "    }\n",
       "\n",
       "    .dataframe tbody tr th {\n",
       "        vertical-align: top;\n",
       "    }\n",
       "\n",
       "    .dataframe thead th {\n",
       "        text-align: right;\n",
       "    }\n",
       "</style>\n",
       "<table border=\"1\" class=\"dataframe\">\n",
       "  <thead>\n",
       "    <tr style=\"text-align: right;\">\n",
       "      <th></th>\n",
       "      <th>user_account</th>\n",
       "      <th>text</th>\n",
       "      <th>created_at</th>\n",
       "    </tr>\n",
       "  </thead>\n",
       "  <tbody>\n",
       "    <tr>\n",
       "      <td>0</td>\n",
       "      <td>FFFBot1</td>\n",
       "      <td>this is my family at the pipeline protest fri...</td>\n",
       "      <td>2021-04-06 11:08:02</td>\n",
       "    </tr>\n",
       "    <tr>\n",
       "      <td>1</td>\n",
       "      <td>meiklwagner</td>\n",
       "      <td>some things are better left unsaid daryl hall...</td>\n",
       "      <td>2021-04-06 11:08:02</td>\n",
       "    </tr>\n",
       "    <tr>\n",
       "      <td>2</td>\n",
       "      <td>FFFBot1</td>\n",
       "      <td>week 51 of climatestrikeonline the climate em...</td>\n",
       "      <td>2021-04-06 11:07:52</td>\n",
       "    </tr>\n",
       "    <tr>\n",
       "      <td>3</td>\n",
       "      <td>MrCastrigano</td>\n",
       "      <td>teachers comment below to let us know what ty...</td>\n",
       "      <td>2021-04-06 11:07:49</td>\n",
       "    </tr>\n",
       "    <tr>\n",
       "      <td>4</td>\n",
       "      <td>fmotta100</td>\n",
       "      <td>here is a 90 second video summary of climate ...</td>\n",
       "      <td>2021-04-06 11:07:32</td>\n",
       "    </tr>\n",
       "    <tr>\n",
       "      <td>5</td>\n",
       "      <td>FFFBot1</td>\n",
       "      <td>week 12 of my digital strike for the climate ...</td>\n",
       "      <td>2021-04-06 11:07:10</td>\n",
       "    </tr>\n",
       "    <tr>\n",
       "      <td>6</td>\n",
       "      <td>FFFBot1</td>\n",
       "      <td>appreciating the effos of deepasri naveenawan...</td>\n",
       "      <td>2021-04-06 11:07:09</td>\n",
       "    </tr>\n",
       "    <tr>\n",
       "      <td>7</td>\n",
       "      <td>LaguirreGM</td>\n",
       "      <td>biden s americanjobsplan would simultaneously...</td>\n",
       "      <td>2021-04-06 11:06:59</td>\n",
       "    </tr>\n",
       "    <tr>\n",
       "      <td>8</td>\n",
       "      <td>uziibad</td>\n",
       "      <td></td>\n",
       "      <td>2021-04-06 11:06:59</td>\n",
       "    </tr>\n",
       "    <tr>\n",
       "      <td>9</td>\n",
       "      <td>inbusiness4good</td>\n",
       "      <td>eahday eahoptimism you are invited to join th...</td>\n",
       "      <td>2021-04-06 11:06:52</td>\n",
       "    </tr>\n",
       "  </tbody>\n",
       "</table>\n",
       "</div>"
      ],
      "text/plain": [
       "      user_account                                               text  \\\n",
       "0          FFFBot1   this is my family at the pipeline protest fri...   \n",
       "1      meiklwagner   some things are better left unsaid daryl hall...   \n",
       "2          FFFBot1   week 51 of climatestrikeonline the climate em...   \n",
       "3     MrCastrigano   teachers comment below to let us know what ty...   \n",
       "4        fmotta100   here is a 90 second video summary of climate ...   \n",
       "5          FFFBot1   week 12 of my digital strike for the climate ...   \n",
       "6          FFFBot1   appreciating the effos of deepasri naveenawan...   \n",
       "7       LaguirreGM   biden s americanjobsplan would simultaneously...   \n",
       "8          uziibad                                                      \n",
       "9  inbusiness4good   eahday eahoptimism you are invited to join th...   \n",
       "\n",
       "           created_at  \n",
       "0 2021-04-06 11:08:02  \n",
       "1 2021-04-06 11:08:02  \n",
       "2 2021-04-06 11:07:52  \n",
       "3 2021-04-06 11:07:49  \n",
       "4 2021-04-06 11:07:32  \n",
       "5 2021-04-06 11:07:10  \n",
       "6 2021-04-06 11:07:09  \n",
       "7 2021-04-06 11:06:59  \n",
       "8 2021-04-06 11:06:59  \n",
       "9 2021-04-06 11:06:52  "
      ]
     },
     "execution_count": 37,
     "metadata": {},
     "output_type": "execute_result"
    }
   ],
   "source": [
    "tw_list['text'] = tw_list['text'].str.lower()\\\n",
    ".str.replace('(@[a-z0-9]+)\\w+',' ')\\\n",
    ".str.replace('(http\\S+)', ' ')\\\n",
    ".str.replace('([^0-9a-z \\t])',' ')\\\n",
    ".str.replace(' +',' ')\\\n",
    ".str.replace('(&gt)', '')\\\n",
    ".str.replace('(\\xa0)', '')\\\n",
    ".str.replace('(&amp)', '')\\\n",
    ".str.replace('(amp)', '')\\\n",
    ".str.replace('(&lt)', '')\\\n",
    ".str.replace('(<a).*(>).*(</a>)', '')\\\n",
    ".str.replace(\"(<br/>)\", \"\")\\\n",
    ".str.replace(\"(rt)\", \"\")\n",
    "\n",
    "tw_list.head(n=10)"
   ]
  },
  {
   "cell_type": "code",
   "execution_count": 38,
   "metadata": {
    "scrolled": true
   },
   "outputs": [],
   "source": [
    "tw_list.drop_duplicates(inplace=True)"
   ]
  },
  {
   "cell_type": "code",
   "execution_count": 39,
   "metadata": {
    "scrolled": true
   },
   "outputs": [
    {
     "data": {
      "text/html": [
       "<div>\n",
       "<style scoped>\n",
       "    .dataframe tbody tr th:only-of-type {\n",
       "        vertical-align: middle;\n",
       "    }\n",
       "\n",
       "    .dataframe tbody tr th {\n",
       "        vertical-align: top;\n",
       "    }\n",
       "\n",
       "    .dataframe thead th {\n",
       "        text-align: right;\n",
       "    }\n",
       "</style>\n",
       "<table border=\"1\" class=\"dataframe\">\n",
       "  <thead>\n",
       "    <tr style=\"text-align: right;\">\n",
       "      <th></th>\n",
       "      <th>user_account</th>\n",
       "      <th>text</th>\n",
       "      <th>created_at</th>\n",
       "      <th>polarity</th>\n",
       "      <th>subjectivity</th>\n",
       "      <th>neg</th>\n",
       "      <th>neu</th>\n",
       "      <th>pos</th>\n",
       "      <th>compound</th>\n",
       "    </tr>\n",
       "  </thead>\n",
       "  <tbody>\n",
       "    <tr>\n",
       "      <td>0</td>\n",
       "      <td>FFFBot1</td>\n",
       "      <td>this is my family at the pipeline protest fri...</td>\n",
       "      <td>2021-04-06 11:08:02</td>\n",
       "      <td>0.00</td>\n",
       "      <td>0.00</td>\n",
       "      <td>0.200</td>\n",
       "      <td>0.800</td>\n",
       "      <td>0.000</td>\n",
       "      <td>-0.2500</td>\n",
       "    </tr>\n",
       "    <tr>\n",
       "      <td>1</td>\n",
       "      <td>meiklwagner</td>\n",
       "      <td>some things are better left unsaid daryl hall...</td>\n",
       "      <td>2021-04-06 11:08:02</td>\n",
       "      <td>0.25</td>\n",
       "      <td>0.25</td>\n",
       "      <td>0.000</td>\n",
       "      <td>0.838</td>\n",
       "      <td>0.162</td>\n",
       "      <td>0.4404</td>\n",
       "    </tr>\n",
       "    <tr>\n",
       "      <td>2</td>\n",
       "      <td>FFFBot1</td>\n",
       "      <td>week 51 of climatestrikeonline the climate em...</td>\n",
       "      <td>2021-04-06 11:07:52</td>\n",
       "      <td>0.00</td>\n",
       "      <td>0.00</td>\n",
       "      <td>0.191</td>\n",
       "      <td>0.809</td>\n",
       "      <td>0.000</td>\n",
       "      <td>-0.3818</td>\n",
       "    </tr>\n",
       "    <tr>\n",
       "      <td>3</td>\n",
       "      <td>MrCastrigano</td>\n",
       "      <td>teachers comment below to let us know what ty...</td>\n",
       "      <td>2021-04-06 11:07:49</td>\n",
       "      <td>0.00</td>\n",
       "      <td>0.00</td>\n",
       "      <td>0.000</td>\n",
       "      <td>0.936</td>\n",
       "      <td>0.064</td>\n",
       "      <td>0.0772</td>\n",
       "    </tr>\n",
       "    <tr>\n",
       "      <td>4</td>\n",
       "      <td>fmotta100</td>\n",
       "      <td>here is a 90 second video summary of climate ...</td>\n",
       "      <td>2021-04-06 11:07:32</td>\n",
       "      <td>0.00</td>\n",
       "      <td>0.00</td>\n",
       "      <td>0.000</td>\n",
       "      <td>0.766</td>\n",
       "      <td>0.234</td>\n",
       "      <td>0.6369</td>\n",
       "    </tr>\n",
       "    <tr>\n",
       "      <td>5</td>\n",
       "      <td>FFFBot1</td>\n",
       "      <td>week 12 of my digital strike for the climate ...</td>\n",
       "      <td>2021-04-06 11:07:10</td>\n",
       "      <td>0.00</td>\n",
       "      <td>0.00</td>\n",
       "      <td>0.089</td>\n",
       "      <td>0.774</td>\n",
       "      <td>0.137</td>\n",
       "      <td>0.2023</td>\n",
       "    </tr>\n",
       "    <tr>\n",
       "      <td>6</td>\n",
       "      <td>FFFBot1</td>\n",
       "      <td>appreciating the effos of deepasri naveenawan...</td>\n",
       "      <td>2021-04-06 11:07:09</td>\n",
       "      <td>0.00</td>\n",
       "      <td>0.00</td>\n",
       "      <td>0.000</td>\n",
       "      <td>0.805</td>\n",
       "      <td>0.195</td>\n",
       "      <td>0.4404</td>\n",
       "    </tr>\n",
       "    <tr>\n",
       "      <td>7</td>\n",
       "      <td>LaguirreGM</td>\n",
       "      <td>biden s americanjobsplan would simultaneously...</td>\n",
       "      <td>2021-04-06 11:06:59</td>\n",
       "      <td>0.60</td>\n",
       "      <td>0.55</td>\n",
       "      <td>0.000</td>\n",
       "      <td>0.750</td>\n",
       "      <td>0.250</td>\n",
       "      <td>0.6124</td>\n",
       "    </tr>\n",
       "    <tr>\n",
       "      <td>8</td>\n",
       "      <td>uziibad</td>\n",
       "      <td></td>\n",
       "      <td>2021-04-06 11:06:59</td>\n",
       "      <td>0.00</td>\n",
       "      <td>0.00</td>\n",
       "      <td>0.000</td>\n",
       "      <td>0.000</td>\n",
       "      <td>0.000</td>\n",
       "      <td>0.0000</td>\n",
       "    </tr>\n",
       "    <tr>\n",
       "      <td>9</td>\n",
       "      <td>inbusiness4good</td>\n",
       "      <td>eahday eahoptimism you are invited to join th...</td>\n",
       "      <td>2021-04-06 11:06:52</td>\n",
       "      <td>0.00</td>\n",
       "      <td>0.00</td>\n",
       "      <td>0.000</td>\n",
       "      <td>0.833</td>\n",
       "      <td>0.167</td>\n",
       "      <td>0.2960</td>\n",
       "    </tr>\n",
       "  </tbody>\n",
       "</table>\n",
       "</div>"
      ],
      "text/plain": [
       "      user_account                                               text  \\\n",
       "0          FFFBot1   this is my family at the pipeline protest fri...   \n",
       "1      meiklwagner   some things are better left unsaid daryl hall...   \n",
       "2          FFFBot1   week 51 of climatestrikeonline the climate em...   \n",
       "3     MrCastrigano   teachers comment below to let us know what ty...   \n",
       "4        fmotta100   here is a 90 second video summary of climate ...   \n",
       "5          FFFBot1   week 12 of my digital strike for the climate ...   \n",
       "6          FFFBot1   appreciating the effos of deepasri naveenawan...   \n",
       "7       LaguirreGM   biden s americanjobsplan would simultaneously...   \n",
       "8          uziibad                                                      \n",
       "9  inbusiness4good   eahday eahoptimism you are invited to join th...   \n",
       "\n",
       "           created_at  polarity  subjectivity    neg    neu    pos  compound  \n",
       "0 2021-04-06 11:08:02      0.00          0.00  0.200  0.800  0.000   -0.2500  \n",
       "1 2021-04-06 11:08:02      0.25          0.25  0.000  0.838  0.162    0.4404  \n",
       "2 2021-04-06 11:07:52      0.00          0.00  0.191  0.809  0.000   -0.3818  \n",
       "3 2021-04-06 11:07:49      0.00          0.00  0.000  0.936  0.064    0.0772  \n",
       "4 2021-04-06 11:07:32      0.00          0.00  0.000  0.766  0.234    0.6369  \n",
       "5 2021-04-06 11:07:10      0.00          0.00  0.089  0.774  0.137    0.2023  \n",
       "6 2021-04-06 11:07:09      0.00          0.00  0.000  0.805  0.195    0.4404  \n",
       "7 2021-04-06 11:06:59      0.60          0.55  0.000  0.750  0.250    0.6124  \n",
       "8 2021-04-06 11:06:59      0.00          0.00  0.000  0.000  0.000    0.0000  \n",
       "9 2021-04-06 11:06:52      0.00          0.00  0.000  0.833  0.167    0.2960  "
      ]
     },
     "execution_count": 39,
     "metadata": {},
     "output_type": "execute_result"
    }
   ],
   "source": [
    "from nltk.sentiment.vader import SentimentIntensityAnalyzer\n",
    "from textblob import TextBlob\n",
    "#Calculating Negative, Positive, Neutral and Compound values\n",
    "tw_list[['polarity', 'subjectivity']] = tw_list['text'].apply(lambda Text: pd.Series(TextBlob(Text).sentiment))\n",
    "for index, row in tw_list['text'].iteritems():\n",
    "        score = SentimentIntensityAnalyzer().polarity_scores(row)\n",
    "        neg = score['neg']\n",
    "        neu = score['neu']\n",
    "        pos = score['pos']\n",
    "        comp = score['compound']\n",
    "\n",
    "tw_list['neg'] = tw_list['text'].apply(lambda x:SentimentIntensityAnalyzer().polarity_scores(x)['neg'])\n",
    "tw_list['neu'] = tw_list['text'].apply(lambda x:SentimentIntensityAnalyzer().polarity_scores(x)['neu'])\n",
    "tw_list['pos'] = tw_list['text'].apply(lambda x:SentimentIntensityAnalyzer().polarity_scores(x)['pos'])\n",
    "tw_list['compound'] = tw_list['text'].apply(lambda x:SentimentIntensityAnalyzer().polarity_scores(x)['compound'])\n",
    "\n",
    "tw_list.head(10)"
   ]
  },
  {
   "cell_type": "code",
   "execution_count": 40,
   "metadata": {
    "scrolled": true
   },
   "outputs": [],
   "source": [
    "from nltk.corpus import stopwords"
   ]
  },
  {
   "cell_type": "code",
   "execution_count": 41,
   "metadata": {
    "scrolled": true
   },
   "outputs": [],
   "source": [
    "#nltk.download('stopwords')"
   ]
  },
  {
   "cell_type": "code",
   "execution_count": 42,
   "metadata": {
    "scrolled": true
   },
   "outputs": [],
   "source": [
    "additional  = ['rt','rts','retweet'] #we'll store additional stopwords here\n",
    "swords = set().union(stopwords.words('english'),additional)"
   ]
  },
  {
   "cell_type": "code",
   "execution_count": 43,
   "metadata": {
    "scrolled": true
   },
   "outputs": [],
   "source": [
    "tw_list.drop_duplicates(subset='text',inplace=True)"
   ]
  },
  {
   "cell_type": "code",
   "execution_count": 44,
   "metadata": {
    "scrolled": true
   },
   "outputs": [],
   "source": [
    "tw_list['text'] = tw_list['text'].str.lower()\\\n",
    ".str.replace('(@[a-z0-9]+)\\w+',' ')\\\n",
    ".str.replace('(http\\S+)', ' ')\\\n",
    ".str.replace('([^0-9a-z \\t])',' ')\\\n",
    ".str.replace(' +',' ')\\\n",
    ".str.replace('(&gt)', '')\\\n",
    ".str.replace('(\\xa0)', '')\\\n",
    ".str.replace('(&amp)', '')\\\n",
    ".str.replace('(&lt)', '')\\\n",
    ".str.replace('(<a).*(>).*(</a>)', '')\\\n",
    ".str.replace(\"(<br/>)\", \"\")\\\n",
    ".apply(lambda x: [i for i in x.split() if not i in swords])\n",
    "#  ReviewText = ReviewText.str.replace(\"(<br/>)\", \"\")\n",
    "#     ReviewText = ReviewText.str.replace('(<a).*(>).*(</a>)', '')\n",
    "#     ReviewText = ReviewText.str.replace('(&amp)', '')\n",
    "#     ReviewText = ReviewText.str.replace('(&gt)', '')\n",
    "#     ReviewText = ReviewText.str.replace('(&lt)', '')\n",
    "#     ReviewText = ReviewText.str.replace('(\\xa0)', ' ')  "
   ]
  },
  {
   "cell_type": "code",
   "execution_count": 45,
   "metadata": {
    "scrolled": true
   },
   "outputs": [
    {
     "data": {
      "text/html": [
       "<div>\n",
       "<style scoped>\n",
       "    .dataframe tbody tr th:only-of-type {\n",
       "        vertical-align: middle;\n",
       "    }\n",
       "\n",
       "    .dataframe tbody tr th {\n",
       "        vertical-align: top;\n",
       "    }\n",
       "\n",
       "    .dataframe thead th {\n",
       "        text-align: right;\n",
       "    }\n",
       "</style>\n",
       "<table border=\"1\" class=\"dataframe\">\n",
       "  <thead>\n",
       "    <tr style=\"text-align: right;\">\n",
       "      <th></th>\n",
       "      <th>user_account</th>\n",
       "      <th>text</th>\n",
       "      <th>created_at</th>\n",
       "      <th>polarity</th>\n",
       "      <th>subjectivity</th>\n",
       "      <th>neg</th>\n",
       "      <th>neu</th>\n",
       "      <th>pos</th>\n",
       "      <th>compound</th>\n",
       "    </tr>\n",
       "  </thead>\n",
       "  <tbody>\n",
       "    <tr>\n",
       "      <td>0</td>\n",
       "      <td>FFFBot1</td>\n",
       "      <td>[family, pipeline, protest, fridaysforfuture]</td>\n",
       "      <td>2021-04-06 11:08:02</td>\n",
       "      <td>0.000000</td>\n",
       "      <td>0.000000</td>\n",
       "      <td>0.200</td>\n",
       "      <td>0.800</td>\n",
       "      <td>0.000</td>\n",
       "      <td>-0.2500</td>\n",
       "    </tr>\n",
       "    <tr>\n",
       "      <td>1</td>\n",
       "      <td>meiklwagner</td>\n",
       "      <td>[things, better, left, unsaid, daryl, hall, jo...</td>\n",
       "      <td>2021-04-06 11:08:02</td>\n",
       "      <td>0.250000</td>\n",
       "      <td>0.250000</td>\n",
       "      <td>0.000</td>\n",
       "      <td>0.838</td>\n",
       "      <td>0.162</td>\n",
       "      <td>0.4404</td>\n",
       "    </tr>\n",
       "    <tr>\n",
       "      <td>2</td>\n",
       "      <td>FFFBot1</td>\n",
       "      <td>[week, 51, climatestrikeonline, climate, emerg...</td>\n",
       "      <td>2021-04-06 11:07:52</td>\n",
       "      <td>0.000000</td>\n",
       "      <td>0.000000</td>\n",
       "      <td>0.191</td>\n",
       "      <td>0.809</td>\n",
       "      <td>0.000</td>\n",
       "      <td>-0.3818</td>\n",
       "    </tr>\n",
       "    <tr>\n",
       "      <td>3</td>\n",
       "      <td>MrCastrigano</td>\n",
       "      <td>[teachers, comment, let, us, know, type, teach...</td>\n",
       "      <td>2021-04-06 11:07:49</td>\n",
       "      <td>0.000000</td>\n",
       "      <td>0.000000</td>\n",
       "      <td>0.000</td>\n",
       "      <td>0.936</td>\n",
       "      <td>0.064</td>\n",
       "      <td>0.0772</td>\n",
       "    </tr>\n",
       "    <tr>\n",
       "      <td>4</td>\n",
       "      <td>fmotta100</td>\n",
       "      <td>[90, second, video, summary, climate, change, ...</td>\n",
       "      <td>2021-04-06 11:07:32</td>\n",
       "      <td>0.000000</td>\n",
       "      <td>0.000000</td>\n",
       "      <td>0.000</td>\n",
       "      <td>0.766</td>\n",
       "      <td>0.234</td>\n",
       "      <td>0.6369</td>\n",
       "    </tr>\n",
       "    <tr>\n",
       "      <td>5</td>\n",
       "      <td>FFFBot1</td>\n",
       "      <td>[week, 12, digital, strike, climate, please, s...</td>\n",
       "      <td>2021-04-06 11:07:10</td>\n",
       "      <td>0.000000</td>\n",
       "      <td>0.000000</td>\n",
       "      <td>0.089</td>\n",
       "      <td>0.774</td>\n",
       "      <td>0.137</td>\n",
       "      <td>0.2023</td>\n",
       "    </tr>\n",
       "    <tr>\n",
       "      <td>6</td>\n",
       "      <td>FFFBot1</td>\n",
       "      <td>[appreciating, effos, deepasri, naveenawangara...</td>\n",
       "      <td>2021-04-06 11:07:09</td>\n",
       "      <td>0.000000</td>\n",
       "      <td>0.000000</td>\n",
       "      <td>0.000</td>\n",
       "      <td>0.805</td>\n",
       "      <td>0.195</td>\n",
       "      <td>0.4404</td>\n",
       "    </tr>\n",
       "    <tr>\n",
       "      <td>7</td>\n",
       "      <td>LaguirreGM</td>\n",
       "      <td>[biden, americanjobsplan, would, simultaneousl...</td>\n",
       "      <td>2021-04-06 11:06:59</td>\n",
       "      <td>0.600000</td>\n",
       "      <td>0.550000</td>\n",
       "      <td>0.000</td>\n",
       "      <td>0.750</td>\n",
       "      <td>0.250</td>\n",
       "      <td>0.6124</td>\n",
       "    </tr>\n",
       "    <tr>\n",
       "      <td>8</td>\n",
       "      <td>uziibad</td>\n",
       "      <td>[]</td>\n",
       "      <td>2021-04-06 11:06:59</td>\n",
       "      <td>0.000000</td>\n",
       "      <td>0.000000</td>\n",
       "      <td>0.000</td>\n",
       "      <td>0.000</td>\n",
       "      <td>0.000</td>\n",
       "      <td>0.0000</td>\n",
       "    </tr>\n",
       "    <tr>\n",
       "      <td>9</td>\n",
       "      <td>inbusiness4good</td>\n",
       "      <td>[eahday, eahoptimism, invited, join, nextgen, ...</td>\n",
       "      <td>2021-04-06 11:06:52</td>\n",
       "      <td>0.000000</td>\n",
       "      <td>0.000000</td>\n",
       "      <td>0.000</td>\n",
       "      <td>0.833</td>\n",
       "      <td>0.167</td>\n",
       "      <td>0.2960</td>\n",
       "    </tr>\n",
       "    <tr>\n",
       "      <td>10</td>\n",
       "      <td>whoisniraj</td>\n",
       "      <td>[players, play, game, wearing, masks, carrying...</td>\n",
       "      <td>2021-04-06 11:06:39</td>\n",
       "      <td>-0.400000</td>\n",
       "      <td>0.400000</td>\n",
       "      <td>0.000</td>\n",
       "      <td>0.844</td>\n",
       "      <td>0.156</td>\n",
       "      <td>0.3400</td>\n",
       "    </tr>\n",
       "    <tr>\n",
       "      <td>11</td>\n",
       "      <td>Doreendelali</td>\n",
       "      <td>[gtnf, service, humanity, god, bless, humanity...</td>\n",
       "      <td>2021-04-06 11:06:37</td>\n",
       "      <td>0.000000</td>\n",
       "      <td>0.000000</td>\n",
       "      <td>0.000</td>\n",
       "      <td>0.428</td>\n",
       "      <td>0.572</td>\n",
       "      <td>0.9136</td>\n",
       "    </tr>\n",
       "    <tr>\n",
       "      <td>12</td>\n",
       "      <td>StegherrMichael</td>\n",
       "      <td>[planet, trapped, inside, whistling, pressure,...</td>\n",
       "      <td>2021-04-06 11:06:32</td>\n",
       "      <td>-0.200000</td>\n",
       "      <td>0.000000</td>\n",
       "      <td>0.259</td>\n",
       "      <td>0.741</td>\n",
       "      <td>0.000</td>\n",
       "      <td>-0.6808</td>\n",
       "    </tr>\n",
       "    <tr>\n",
       "      <td>13</td>\n",
       "      <td>FFFBot1</td>\n",
       "      <td>[stop, burning, fossil, fuels, planet, b, face...</td>\n",
       "      <td>2021-04-06 11:06:17</td>\n",
       "      <td>0.000000</td>\n",
       "      <td>0.000000</td>\n",
       "      <td>0.306</td>\n",
       "      <td>0.694</td>\n",
       "      <td>0.000</td>\n",
       "      <td>-0.5267</td>\n",
       "    </tr>\n",
       "    <tr>\n",
       "      <td>14</td>\n",
       "      <td>seedingourfutur</td>\n",
       "      <td>[would, community, group, like, host, series, ...</td>\n",
       "      <td>2021-04-06 11:06:02</td>\n",
       "      <td>0.000000</td>\n",
       "      <td>0.000000</td>\n",
       "      <td>0.000</td>\n",
       "      <td>0.865</td>\n",
       "      <td>0.135</td>\n",
       "      <td>0.3612</td>\n",
       "    </tr>\n",
       "    <tr>\n",
       "      <td>15</td>\n",
       "      <td>andybudd</td>\n",
       "      <td>[climateemergency, zero, sum, game, switched, ...</td>\n",
       "      <td>2021-04-06 11:06:02</td>\n",
       "      <td>0.050000</td>\n",
       "      <td>0.450000</td>\n",
       "      <td>0.000</td>\n",
       "      <td>0.872</td>\n",
       "      <td>0.128</td>\n",
       "      <td>0.3612</td>\n",
       "    </tr>\n",
       "    <tr>\n",
       "      <td>16</td>\n",
       "      <td>squirtally</td>\n",
       "      <td>[please, consider, donating, gofundme, suppo, ...</td>\n",
       "      <td>2021-04-06 11:05:50</td>\n",
       "      <td>0.000000</td>\n",
       "      <td>0.000000</td>\n",
       "      <td>0.114</td>\n",
       "      <td>0.786</td>\n",
       "      <td>0.100</td>\n",
       "      <td>-0.0772</td>\n",
       "    </tr>\n",
       "    <tr>\n",
       "      <td>17</td>\n",
       "      <td>OhSheri1</td>\n",
       "      <td>[worst, canada, worst, bunch, busy, smug, lead...</td>\n",
       "      <td>2021-04-06 11:05:40</td>\n",
       "      <td>-0.633333</td>\n",
       "      <td>0.766667</td>\n",
       "      <td>0.179</td>\n",
       "      <td>0.772</td>\n",
       "      <td>0.049</td>\n",
       "      <td>-0.5719</td>\n",
       "    </tr>\n",
       "    <tr>\n",
       "      <td>18</td>\n",
       "      <td>GeraldKutney</td>\n",
       "      <td>[yes, climate, denialism, amazing, simply, acc...</td>\n",
       "      <td>2021-04-06 11:05:40</td>\n",
       "      <td>0.166667</td>\n",
       "      <td>0.452381</td>\n",
       "      <td>0.185</td>\n",
       "      <td>0.463</td>\n",
       "      <td>0.351</td>\n",
       "      <td>0.6486</td>\n",
       "    </tr>\n",
       "    <tr>\n",
       "      <td>19</td>\n",
       "      <td>GeraldKutney</td>\n",
       "      <td>[would, make, sense, climate, denier, climateb...</td>\n",
       "      <td>2021-04-06 11:05:37</td>\n",
       "      <td>0.000000</td>\n",
       "      <td>0.000000</td>\n",
       "      <td>0.217</td>\n",
       "      <td>0.783</td>\n",
       "      <td>0.000</td>\n",
       "      <td>-0.3612</td>\n",
       "    </tr>\n",
       "  </tbody>\n",
       "</table>\n",
       "</div>"
      ],
      "text/plain": [
       "       user_account                                               text  \\\n",
       "0           FFFBot1      [family, pipeline, protest, fridaysforfuture]   \n",
       "1       meiklwagner  [things, better, left, unsaid, daryl, hall, jo...   \n",
       "2           FFFBot1  [week, 51, climatestrikeonline, climate, emerg...   \n",
       "3      MrCastrigano  [teachers, comment, let, us, know, type, teach...   \n",
       "4         fmotta100  [90, second, video, summary, climate, change, ...   \n",
       "5           FFFBot1  [week, 12, digital, strike, climate, please, s...   \n",
       "6           FFFBot1  [appreciating, effos, deepasri, naveenawangara...   \n",
       "7        LaguirreGM  [biden, americanjobsplan, would, simultaneousl...   \n",
       "8           uziibad                                                 []   \n",
       "9   inbusiness4good  [eahday, eahoptimism, invited, join, nextgen, ...   \n",
       "10       whoisniraj  [players, play, game, wearing, masks, carrying...   \n",
       "11     Doreendelali  [gtnf, service, humanity, god, bless, humanity...   \n",
       "12  StegherrMichael  [planet, trapped, inside, whistling, pressure,...   \n",
       "13          FFFBot1  [stop, burning, fossil, fuels, planet, b, face...   \n",
       "14  seedingourfutur  [would, community, group, like, host, series, ...   \n",
       "15         andybudd  [climateemergency, zero, sum, game, switched, ...   \n",
       "16       squirtally  [please, consider, donating, gofundme, suppo, ...   \n",
       "17         OhSheri1  [worst, canada, worst, bunch, busy, smug, lead...   \n",
       "18     GeraldKutney  [yes, climate, denialism, amazing, simply, acc...   \n",
       "19     GeraldKutney  [would, make, sense, climate, denier, climateb...   \n",
       "\n",
       "            created_at  polarity  subjectivity    neg    neu    pos  compound  \n",
       "0  2021-04-06 11:08:02  0.000000      0.000000  0.200  0.800  0.000   -0.2500  \n",
       "1  2021-04-06 11:08:02  0.250000      0.250000  0.000  0.838  0.162    0.4404  \n",
       "2  2021-04-06 11:07:52  0.000000      0.000000  0.191  0.809  0.000   -0.3818  \n",
       "3  2021-04-06 11:07:49  0.000000      0.000000  0.000  0.936  0.064    0.0772  \n",
       "4  2021-04-06 11:07:32  0.000000      0.000000  0.000  0.766  0.234    0.6369  \n",
       "5  2021-04-06 11:07:10  0.000000      0.000000  0.089  0.774  0.137    0.2023  \n",
       "6  2021-04-06 11:07:09  0.000000      0.000000  0.000  0.805  0.195    0.4404  \n",
       "7  2021-04-06 11:06:59  0.600000      0.550000  0.000  0.750  0.250    0.6124  \n",
       "8  2021-04-06 11:06:59  0.000000      0.000000  0.000  0.000  0.000    0.0000  \n",
       "9  2021-04-06 11:06:52  0.000000      0.000000  0.000  0.833  0.167    0.2960  \n",
       "10 2021-04-06 11:06:39 -0.400000      0.400000  0.000  0.844  0.156    0.3400  \n",
       "11 2021-04-06 11:06:37  0.000000      0.000000  0.000  0.428  0.572    0.9136  \n",
       "12 2021-04-06 11:06:32 -0.200000      0.000000  0.259  0.741  0.000   -0.6808  \n",
       "13 2021-04-06 11:06:17  0.000000      0.000000  0.306  0.694  0.000   -0.5267  \n",
       "14 2021-04-06 11:06:02  0.000000      0.000000  0.000  0.865  0.135    0.3612  \n",
       "15 2021-04-06 11:06:02  0.050000      0.450000  0.000  0.872  0.128    0.3612  \n",
       "16 2021-04-06 11:05:50  0.000000      0.000000  0.114  0.786  0.100   -0.0772  \n",
       "17 2021-04-06 11:05:40 -0.633333      0.766667  0.179  0.772  0.049   -0.5719  \n",
       "18 2021-04-06 11:05:40  0.166667      0.452381  0.185  0.463  0.351    0.6486  \n",
       "19 2021-04-06 11:05:37  0.000000      0.000000  0.217  0.783  0.000   -0.3612  "
      ]
     },
     "execution_count": 45,
     "metadata": {},
     "output_type": "execute_result"
    }
   ],
   "source": [
    "tw_list.head(n=20) "
   ]
  },
  {
   "cell_type": "code",
   "execution_count": 46,
   "metadata": {
    "scrolled": true
   },
   "outputs": [],
   "source": [
    "from nltk.stem import PorterStemmer\n",
    "ps = PorterStemmer()"
   ]
  },
  {
   "cell_type": "code",
   "execution_count": 47,
   "metadata": {
    "scrolled": true
   },
   "outputs": [],
   "source": [
    "tw_list['stemmed'] = tw_list['text'].apply(lambda x: [ps.stem(i) for i in x if i != ''])"
   ]
  },
  {
   "cell_type": "code",
   "execution_count": 48,
   "metadata": {
    "scrolled": true
   },
   "outputs": [],
   "source": [
    "import nltk.sentiment.vader as vd\n",
    "from nltk import download\n",
    "#download('vader_lexicon')"
   ]
  },
  {
   "cell_type": "code",
   "execution_count": 49,
   "metadata": {
    "scrolled": true
   },
   "outputs": [],
   "source": [
    "sia = vd.SentimentIntensityAnalyzer()"
   ]
  },
  {
   "cell_type": "code",
   "execution_count": 50,
   "metadata": {
    "scrolled": true
   },
   "outputs": [],
   "source": [
    "from nltk.tokenize import word_tokenize"
   ]
  },
  {
   "cell_type": "code",
   "execution_count": 51,
   "metadata": {
    "scrolled": true
   },
   "outputs": [],
   "source": [
    "#nltk.download('punkt')"
   ]
  },
  {
   "cell_type": "code",
   "execution_count": 52,
   "metadata": {
    "scrolled": true
   },
   "outputs": [],
   "source": [
    "tw_list['sentiment_score'] = tw_list['text'].apply(lambda x: sum([ sia.polarity_scores(i)['compound'] for i in word_tokenize( ' '.join(x) )]) )"
   ]
  },
  {
   "cell_type": "code",
   "execution_count": 53,
   "metadata": {
    "scrolled": true
   },
   "outputs": [
    {
     "data": {
      "text/html": [
       "<div>\n",
       "<style scoped>\n",
       "    .dataframe tbody tr th:only-of-type {\n",
       "        vertical-align: middle;\n",
       "    }\n",
       "\n",
       "    .dataframe tbody tr th {\n",
       "        vertical-align: top;\n",
       "    }\n",
       "\n",
       "    .dataframe thead th {\n",
       "        text-align: right;\n",
       "    }\n",
       "</style>\n",
       "<table border=\"1\" class=\"dataframe\">\n",
       "  <thead>\n",
       "    <tr style=\"text-align: right;\">\n",
       "      <th></th>\n",
       "      <th>text</th>\n",
       "      <th>sentiment_score</th>\n",
       "    </tr>\n",
       "  </thead>\n",
       "  <tbody>\n",
       "    <tr>\n",
       "      <td>0</td>\n",
       "      <td>[family, pipeline, protest, fridaysforfuture]</td>\n",
       "      <td>-0.2500</td>\n",
       "    </tr>\n",
       "    <tr>\n",
       "      <td>1</td>\n",
       "      <td>[things, better, left, unsaid, daryl, hall, jo...</td>\n",
       "      <td>0.4404</td>\n",
       "    </tr>\n",
       "    <tr>\n",
       "      <td>2</td>\n",
       "      <td>[week, 51, climatestrikeonline, climate, emerg...</td>\n",
       "      <td>-0.3818</td>\n",
       "    </tr>\n",
       "    <tr>\n",
       "      <td>3</td>\n",
       "      <td>[teachers, comment, let, us, know, type, teach...</td>\n",
       "      <td>0.0772</td>\n",
       "    </tr>\n",
       "    <tr>\n",
       "      <td>4</td>\n",
       "      <td>[90, second, video, summary, climate, change, ...</td>\n",
       "      <td>0.7631</td>\n",
       "    </tr>\n",
       "    <tr>\n",
       "      <td>5</td>\n",
       "      <td>[week, 12, digital, strike, climate, please, s...</td>\n",
       "      <td>0.1902</td>\n",
       "    </tr>\n",
       "    <tr>\n",
       "      <td>6</td>\n",
       "      <td>[appreciating, effos, deepasri, naveenawangara...</td>\n",
       "      <td>0.4404</td>\n",
       "    </tr>\n",
       "    <tr>\n",
       "      <td>7</td>\n",
       "      <td>[biden, americanjobsplan, would, simultaneousl...</td>\n",
       "      <td>0.7136</td>\n",
       "    </tr>\n",
       "    <tr>\n",
       "      <td>8</td>\n",
       "      <td>[]</td>\n",
       "      <td>0.0000</td>\n",
       "    </tr>\n",
       "    <tr>\n",
       "      <td>9</td>\n",
       "      <td>[eahday, eahoptimism, invited, join, nextgen, ...</td>\n",
       "      <td>0.2960</td>\n",
       "    </tr>\n",
       "  </tbody>\n",
       "</table>\n",
       "</div>"
      ],
      "text/plain": [
       "                                                text  sentiment_score\n",
       "0      [family, pipeline, protest, fridaysforfuture]          -0.2500\n",
       "1  [things, better, left, unsaid, daryl, hall, jo...           0.4404\n",
       "2  [week, 51, climatestrikeonline, climate, emerg...          -0.3818\n",
       "3  [teachers, comment, let, us, know, type, teach...           0.0772\n",
       "4  [90, second, video, summary, climate, change, ...           0.7631\n",
       "5  [week, 12, digital, strike, climate, please, s...           0.1902\n",
       "6  [appreciating, effos, deepasri, naveenawangara...           0.4404\n",
       "7  [biden, americanjobsplan, would, simultaneousl...           0.7136\n",
       "8                                                 []           0.0000\n",
       "9  [eahday, eahoptimism, invited, join, nextgen, ...           0.2960"
      ]
     },
     "execution_count": 53,
     "metadata": {},
     "output_type": "execute_result"
    }
   ],
   "source": [
    "tw_list[['text','sentiment_score']].head(n=10)"
   ]
  },
  {
   "cell_type": "code",
   "execution_count": 54,
   "metadata": {
    "scrolled": true
   },
   "outputs": [
    {
     "data": {
      "text/plain": [
       " 0    203\n",
       " 1     31\n",
       "-1     17\n",
       " 2      3\n",
       "-2      1\n",
       "Name: sentiment_score, dtype: int64"
      ]
     },
     "execution_count": 54,
     "metadata": {},
     "output_type": "execute_result"
    }
   ],
   "source": [
    "tw_list['sentiment_score'].apply(lambda x: round(x,)).value_counts()"
   ]
  },
  {
   "cell_type": "code",
   "execution_count": 67,
   "metadata": {},
   "outputs": [
    {
     "data": {
      "image/png": "[encoded data removed]",
      "text/plain": [
       "<Figure size 720x360 with 1 Axes>"
      ]
     },
     "metadata": {
      "needs_background": "light"
     },
     "output_type": "display_data"
    }
   ],
   "source": [
    "fig = plt.figure(figsize=(10,5))\n",
    "ax = fig.add_subplot(111)\n",
    "sns.distplot(tw_list['compound'], bins=15, ax=ax)\n",
    "ax.set(title='Sentiment Scores of Tweets', xlabel='Compound Sentiment Score', ylabel='Frequency')\n",
    "plt.savefig('Sentiment.png')\n",
    "plt.show()"
   ]
  },
  {
   "cell_type": "code",
   "execution_count": 58,
   "metadata": {},
   "outputs": [],
   "source": [
    "import datetime as dt\n",
    "import seaborn as sns"
   ]
  },
  {
   "cell_type": "code",
   "execution_count": 60,
   "metadata": {},
   "outputs": [],
   "source": [
    "tw_list.sort_values(by='created_at', inplace=True)\n",
    "tw_list.index = pd.to_datetime(tw_list['created_at'])\n",
    "tw_list['mean'] = tw_list['compound'].expanding().mean()\n",
    "tw_list['rolling'] = tw_list['compound'].rolling('6h').mean()"
   ]
  },
  {
   "cell_type": "code",
   "execution_count": 64,
   "metadata": {},
   "outputs": [],
   "source": [
    "ot = tw_list.sample(frac=.1, random_state=1111)\n",
    "ot.sort_index(inplace=True)\n",
    "ot['mean'] = ot['compound'].expanding().mean()\n",
    "ot['rolling'] = ot['compound'].rolling('6h').mean()\n",
    "plt.show()"
   ]
  },
  {
   "cell_type": "code",
   "execution_count": 65,
   "metadata": {},
   "outputs": [
    {
     "data": {
      "text/plain": [
       "<matplotlib.legend.Legend at 0x2cadf716848>"
      ]
     },
     "execution_count": 65,
     "metadata": {},
     "output_type": "execute_result"
    },
    {
     "data": {
      "image/png": "[encoded data removed]",
      "text/plain": [
       "<Figure size 1440x360 with 1 Axes>"
      ]
     },
     "metadata": {
      "needs_background": "light"
     },
     "output_type": "display_data"
    }
   ],
   "source": [
    "fig = plt.figure(figsize=(20,5))\n",
    "ax=fig.add_subplot(111)\n",
    "ax.scatter(ot['created_at'],ot['compound'], label='Tweet Sentiment')\n",
    "ax.plot(ot['created_at'],ot['rolling'], color ='r', label='Rolling Mean')\n",
    "ax.plot(ot['created_at'],ot['mean'], color='y', label='Expanding Mean')\n",
    "ax.set_xlim([dt.date(2019,1,15),dt.date(2021,4,21)])\n",
    "ax.set(title='Anthem Tweets over Time', xlabel='Date', ylabel='Sentiment')\n",
    "ax.legend(loc='best')\n"
   ]
  },
  {
   "cell_type": "code",
   "execution_count": null,
   "metadata": {
    "scrolled": true
   },
   "outputs": [],
   "source": [
    "tw_list[tw_list['sentiment_score'] > 1]"
   ]
  },
  {
   "cell_type": "code",
   "execution_count": null,
   "metadata": {
    "scrolled": true
   },
   "outputs": [],
   "source": [
    "comment_words = '' \n",
    "stopwords = set(STOPWORDS) \n",
    "\n",
    "for val in tw_list[\"text\"]: \n",
    "      \n",
    "    # typecaste each val to string \n",
    "    val = str(val) \n",
    "    #print(val)\n",
    "  \n",
    "    # split the value \n",
    "    tokens = val.split() \n",
    "    \n",
    "    #print(tokens[1])\n",
    "      \n",
    "    # Converts each token into lowercase \n",
    "    for i in range(len(tokens)): \n",
    "        tokens[i] = tokens[i].replace(\"'\",'').lower() \n",
    "        \n",
    "    \n",
    "    comment_words += \" \".join(tokens)+\" \"\n",
    "    \n",
    "\n",
    "wordcloud = WordCloud(width = 800, height = 800, \n",
    "                background_color ='white', \n",
    "                stopwords = stopwords, \n",
    "                min_font_size = 10).generate(comment_words) \n",
    "  \n",
    "# plot the WordCloud image                        \n",
    "plt.figure(figsize = (8, 8), facecolor = None) \n",
    "plt.imshow(wordcloud) \n",
    "plt.axis(\"off\") \n",
    "plt.tight_layout(pad = 0) \n",
    "  \n",
    "plt.show() "
   ]
  },
  {
   "cell_type": "code",
   "execution_count": null,
   "metadata": {
    "scrolled": true
   },
   "outputs": [],
   "source": []
  }
 ],
 "metadata": {
  "kernelspec": {
   "display_name": "Python 3",
   "language": "python",
   "name": "python3"
  },
  "language_info": {
   "codemirror_mode": {
    "name": "ipython",
    "version": 3
   },
   "file_extension": ".py",
   "mimetype": "text/x-python",
   "name": "python",
   "nbconvert_exporter": "python",
   "pygments_lexer": "ipython3",
   "version": "3.7.4"
  }
 },
 "nbformat": 4,
 "nbformat_minor": 2
}
